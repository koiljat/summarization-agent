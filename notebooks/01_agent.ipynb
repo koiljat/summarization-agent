{
 "cells": [
  {
   "cell_type": "code",
   "execution_count": 16,
   "id": "4ef90216",
   "metadata": {},
   "outputs": [
    {
     "data": {
      "text/plain": [
       "True"
      ]
     },
     "execution_count": 16,
     "metadata": {},
     "output_type": "execute_result"
    }
   ],
   "source": [
    "from langgraph.graph import StateGraph, END\n",
    "from langchain_openai import ChatOpenAI\n",
    "from langchain_google_genai import ChatGoogleGenerativeAI\n",
    "import os\n",
    "from IPython.display import Image\n",
    "from langchain_core.messages import HumanMessage, AIMessage\n",
    "from dotenv import load_dotenv\n",
    "from typing import TypedDict\n",
    "\n",
    "load_dotenv()"
   ]
  },
  {
   "cell_type": "code",
   "execution_count": 17,
   "id": "ae58abb3",
   "metadata": {},
   "outputs": [],
   "source": [
    "class AgentState(TypedDict):\n",
    "    provider: str  # \"openai\" or \"google\"\n",
    "    model: str  # e.g., \"gpt-4\" or \"gemini-2.5-flash\"\n",
    "    temperature: float  # default at 0.0\n",
    "    max_tokens: int  # default at 4096\n",
    "    top_p: float  # default at 1.0\n",
    "    parsed_docs: str\n",
    "    summary: str\n",
    "    messages: list[HumanMessage | AIMessage | str]  # Accepts list of HumanMessage, AIMessage, or str\n",
    "    summary_type: str  # Few-shot / Map-Reduce / RAG / etc.\n",
    "    llm: ChatOpenAI | ChatGoogleGenerativeAI  # LLM instance, supports LangChain chat models\n",
    "    token_count: int  # Token count of the input documents\n",
    "    summary_plan: str  # Plan for summarization approach\n",
    "\n",
    "def initialize_agent_state(state) -> AgentState:\n",
    "    if state.get(\"provider\") == \"openai\":\n",
    "\n",
    "        llm = ChatOpenAI(\n",
    "            model=state.get(\"model\", \"gpt-4\"),\n",
    "            temperature=0.5,\n",
    "        )\n",
    "    else:\n",
    "        llm = ChatGoogleGenerativeAI(\n",
    "            model=state.get(\"model\", \"gemini-2.5-flash\"),\n",
    "            temperature=0.5,\n",
    "            api_key=os.getenv(\"GOOGLE_API_KEY\"),\n",
    "        )\n",
    "    state[\"llm\"] = llm\n",
    "    return state\n",
    "\n",
    "# Step 1: Parse the PDF, could be from file upload\n",
    "from PyPDF2 import PdfReader\n",
    "\n",
    "def parse_pdf(state: AgentState) -> AgentState:\n",
    "    # Dummy implementation, replace with actual PDF parsing logic\n",
    "    sample_pdf_path = \"../data/sample.pdf\"  # Replace with actual PDF file path\n",
    "    reader = PdfReader(sample_pdf_path)\n",
    "    text = \"\"\n",
    "    for page in reader.pages:\n",
    "        text += page.extract_text() + \"\\n\"\n",
    "    state[\"parsed_docs\"] = text or \"\"\n",
    "    state[\"messages\"].append(f\"System: {state['parsed_docs']}\")\n",
    "    return state\n",
    "\n",
    "\n",
    "# Count Tokens from the parsed_docs\n",
    "def count_tokens(state: AgentState) -> AgentState:\n",
    "    # Dummy implementation, replace with actual token counting logic\n",
    "    parsed_docs = state.get(\"parsed_docs\", \"\")\n",
    "    token_count = len(parsed_docs) // 4  # Rough estimate: 1 token ~ 4 characters\n",
    "    state[\"token_count\"] = token_count\n",
    "    return state\n",
    "\n",
    "# Planner-Executor\n",
    "# Read the parsed_docs and decide on the summarization strategy: Is novel topic, identify the difficult to understand sections and key points\n",
    "def plan_summary(state: AgentState) -> str:\n",
    "    planner_prompt = f\"\"\"Human:\n",
    "    You are an award-winning editor specializing in summarizing technical documents for a broad audience. You are given a document enclosed in <document></document>. Your task is to create a strategy for summarizing this document. This strategy will serve as a set of instructions or prompts to guide other editors in producing the final summary.\n",
    "\n",
    "    Specifically, you should:\n",
    "    1. Provide a concise overview of the technical document.\n",
    "    2. Identify sections that may be complex, technical, or challenging for readers.\n",
    "    3. Suggest strategies or approaches for summarizing these difficult sections effectively.\n",
    "\n",
    "    <document>{state[\"parsed_docs\"]}</document>\n",
    "\n",
    "    Assistant:\"\"\"\n",
    "\n",
    "    llm = state[\"llm\"]\n",
    "    response = llm.invoke(planner_prompt.replace(\"<document></document>\", state[\"parsed_docs\"]))\n",
    "    response_text = response.content if hasattr(response, 'content') else response\n",
    "    state[\"summary_plan\"] = response_text\n",
    "    state[\"messages\"].append(f\"Planner: {response_text}\")\n",
    "    return state\n",
    "\n",
    "def summarize(state: AgentState):\n",
    "    llm = state[\"llm\"]\n",
    "    summarizer_prompt = f\"\"\"Human:\n",
    "    You are an award-winning editor specializing in summarizing technical documents for a broad audience. You are given a document enclosed in <document></document> and a summarization strategy enclosed in <strategy></strategy>. Your task is to create a summary of the document based on the provided strategy.\n",
    "\n",
    "    <document>{state[\"parsed_docs\"]}</document>\n",
    "    <strategy>{state[\"summary_plan\"]}</strategy>\n",
    "\n",
    "    Assistant:\"\"\"\n",
    "\n",
    "    response = llm.invoke(summarizer_prompt)\n",
    "    state[\"summary\"] = response.content if hasattr(response, 'content') else response\n",
    "    state[\"messages\"].append(f\"Summarizer: {response}\")\n",
    "    return state"
   ]
  },
  {
   "cell_type": "code",
   "execution_count": 18,
   "id": "20f1c16d",
   "metadata": {},
   "outputs": [
    {
     "data": {
      "text/plain": [
       "<langgraph.graph.state.StateGraph at 0x12b2e5bd0>"
      ]
     },
     "execution_count": 18,
     "metadata": {},
     "output_type": "execute_result"
    }
   ],
   "source": [
    "workflow = StateGraph(AgentState)\n",
    "\n",
    "workflow.set_entry_point(\"initialize\")\n",
    "\n",
    "workflow.add_node(\"initialize\", initialize_agent_state)\n",
    "workflow.add_node(\"parse_pdf\", parse_pdf)\n",
    "workflow.add_node(\"summarizer\", summarize)\n",
    "workflow.add_node(\"count_tokens\", count_tokens)\n",
    "workflow.add_node(\"plan_summary\", plan_summary)\n",
    "\n",
    "\n",
    "workflow.add_edge(\"initialize\", \"parse_pdf\")  # first initialize the agent state\n",
    "workflow.add_edge(\"parse_pdf\", \"count_tokens\")  # after parsing, count tokens\n",
    "workflow.add_conditional_edges(\n",
    "    \"count_tokens\",\n",
    "    lambda state: \"plan_summary\" if state[\"token_count\"] > 3000 else \"end\",\n",
    "    {\n",
    "        \"plan_summary\": \"plan_summary\",\n",
    "        \"end\": END,\n",
    "    },\n",
    ")\n",
    "workflow.add_edge(\"plan_summary\", \"summarizer\")  # after planning, summarize\n",
    "workflow.add_edge(\"summarizer\", END)\n"
   ]
  },
  {
   "cell_type": "code",
   "execution_count": 19,
   "id": "9adf9772",
   "metadata": {},
   "outputs": [],
   "source": [
    "app = workflow.compile()"
   ]
  },
  {
   "cell_type": "code",
   "execution_count": 20,
   "id": "12ae00c3",
   "metadata": {},
   "outputs": [
    {
     "data": {
      "image/png": "[encoded data removed]",
      "text/plain": [
       "<IPython.core.display.Image object>"
      ]
     },
     "execution_count": 20,
     "metadata": {},
     "output_type": "execute_result"
    }
   ],
   "source": [
    "Image(app.get_graph().draw_mermaid_png())"
   ]
  },
  {
   "cell_type": "code",
   "execution_count": 21,
   "id": "78cadab5",
   "metadata": {},
   "outputs": [
    {
     "name": "stderr",
     "output_type": "stream",
     "text": [
      "E0000 00:00:1758958096.491028 49318028 alts_credentials.cc:93] ALTS creds ignored. Not running on GCP and untrusted ALTS is not enabled.\n"
     ]
    }
   ],
   "source": [
    "def run_workflow(workflow, initial_input=None):\n",
    "    app = workflow.compile()\n",
    "    initial_state = initial_input or {\"messages\": [HumanMessage(content=\"Start workflow\")]}\n",
    "    return app.invoke(initial_state)\n",
    "\n",
    "output = run_workflow(workflow)"
   ]
  },
  {
   "cell_type": "code",
   "execution_count": 23,
   "id": "c982e04b",
   "metadata": {},
   "outputs": [
    {
     "name": "stdout",
     "output_type": "stream",
     "text": [
      "Here's a strategy for summarizing the \"Attention Is All You Need\" document for a broad audience:\n",
      "\n",
      "---\n",
      "\n",
      "### Summarization Strategy: \"Attention Is All You Need\"\n",
      "\n",
      "**1. Concise Overview of the Technical Document:**\n",
      "\n",
      "The core message of this paper is the introduction of a revolutionary neural network architecture called the **Transformer**. Unlike previous dominant models that relied on sequential processing (Recurrent Neural Networks, RNNs) or local processing (Convolutional Neural Networks, CNNs), the Transformer is built **entirely on \"attention mechanisms.\"** This novel approach allows the model to process all parts of an input sequence simultaneously, leading to several key advantages:\n",
      "\n",
      "*   **Faster Training:** Significantly more parallelizable, meaning it can be trained much quicker (e.g., in hours/days rather than weeks).\n",
      "*   **Superior Performance:** Achieves state-of-the-art results in machine translation tasks, outperforming even complex ensemble models.\n",
      "*   **Better Long-Range Understanding:** Effectively captures relationships between distant words in a sentence, a challenge for older models.\n",
      "*   **Generalizability:** Proves effective on other complex language tasks like English constituency parsing.\n",
      "\n",
      "In essence, the Transformer demonstrated that \"attention is all you need\" to build powerful sequence processing models, paving the way for a new era in natural language processing.\n",
      "\n",
      "**2. Identified Complex, Technical, or Challenging Sections:**\n",
      "\n",
      "The following sections contain highly technical details, mathematical formulas, and specialized jargon that would be challenging for a broad audience:\n",
      "\n",
      "*   **Section 3: Model Architecture (especially 3.1, 3.2, 3.5)**\n",
      "    *   **3.1 Encoder and Decoder Stacks:** Concepts like \"residual connections\" and \"layer normalization,\" and the detailed structure of sub-layers.\n",
      "    *   **3.2 Attention (and its sub-sections):**\n",
      "        *   The general definition of an attention function (query, key, value vectors).\n",
      "        *   **3.2.1 Scaled Dot-Product Attention:** The mathematical formula `softmax(QKT / √dk)V` and the explanation of the scaling factor.\n",
      "        *   **3.2.2 Multi-Head Attention:** The concept of multiple parallel attention \"heads,\" linear projections, concatenation, and its associated formula.\n",
      "        *   **3.2.3 Applications of Attention:** While important, the specific distinctions between encoder-decoder attention, encoder self-attention, and masked decoder self-attention can be dense.\n",
      "    *   **3.3 Position-wise Feed-Forward Networks:** The formula `FFN(x) = max(0, xW1 + b1)W2 + b2`.\n",
      "    *   **3.5 Positional Encoding:** The specific sinusoidal functions used (`sin(pos/10000^(2i/d_model))`, `cos(pos/10000^(2i/d_model))`) and the reasoning behind them.\n",
      "*   **Section 4: Why Self-Attention**\n",
      "    *   Comparison of computational complexity using Big O notation (e.g., `O(n^2 * d)`, `O(n * d^2)`).\n",
      "    *   Discussion of \"maximum path length\" and \"sequential operations.\"\n",
      "    *   Technical terms like \"contiguous kernels\" and \"dilated convolutions.\"\n",
      "*   **Section 5: Training**\n",
      "    *   **5.3 Optimizer:** The specific Adam optimizer parameters (`β1`, `β2`, `ϵ`) and especially the learning rate schedule formula (`lrate = d_model^(-0.5) * min(step_num^(-0.5), step_num * warmup_steps^(-1.5))`).\n",
      "    *   **5.4 Regularization:** Specific values for `Pdrop` and `ϵls`.\n",
      "*   **Tables 1, 2, 3, 4:** While the *results* are crucial, the detailed metrics, hyperparameters (e.g., `d_model`, `d_ff`, `h`, `d_k`, `d_v`), and comparative models in these tables can be overwhelming if presented without simplification.\n",
      "\n",
      "**3. Strategies for Summarizing Difficult Sections Effectively:**\n",
      "\n",
      "For each identified complex section, the editor should aim to simplify, contextualize, and explain the *purpose* and *impact* rather than the intricate *mechanics*.\n",
      "\n",
      "*   **General Approach:**\n",
      "    *   **Focus on \"What\" and \"Why,\" not \"How\":** Explain what a component *does* and *why it's important* for the model's function or performance, rather than detailing its mathematical or algorithmic implementation.\n",
      "    *   **Use Analogies:** Relate complex concepts to more familiar ideas.\n",
      "    *   **Avoid Jargon (or explain it simply):** If a technical term is unavoidable, define it briefly in plain language.\n",
      "    *   **Prioritize Impact:** Highlight the practical benefits and contributions.\n",
      "\n",
      "*   **Specific Strategies:**\n",
      "\n",
      "    *   **Section 3: Model Architecture:**\n",
      "        *   **Encoder-Decoder:** Describe as two main parts: the **Encoder** reads and understands the input (e.g., an English sentence), and the **Decoder** generates the output (e.g., the German translation).\n",
      "        *   **Layers/Stacks:** Explain that both the encoder and decoder are made up of several identical \"layers\" that refine the information step-by-step.\n",
      "        *   **Residual Connections & Layer Normalization:** Simplify as \"techniques that help the deep network learn more effectively and stably, like providing shortcuts and balancing signals.\"\n",
      "        *   **Attention (Core Concept):**\n",
      "            *   **Analogy:** \"Imagine reading a sentence like 'The animal didn't cross the street because it was too tired.' To understand what 'it' refers to, your brain focuses on 'animal'. Attention mechanisms allow the model to do something similar: for each word it processes, it learns to focus on the most relevant words in the input sequence.\"\n",
      "            *   **Scaled Dot-Product Attention:** Describe as \"a method to calculate how much 'attention' or 'focus' each word in the input should receive when processing another word, based on their relevance. The 'scaling' is a technical trick to keep these calculations stable.\" *Omit the formula entirely.*\n",
      "            *   **Multi-Head Attention:** Explain as \"using multiple 'attention lenses' simultaneously. Each 'lens' (or head) learns to focus on different types of relationships (e.g., grammatical structures, semantic connections), allowing the model to capture a richer understanding of the input.\"\n",
      "            *   **Applications of Attention:** Clearly state its three roles:\n",
      "                1.  **Encoder Self-Attention:** Helps the encoder understand relationships *within* the input sentence itself.\n",
      "                2.  **Decoder Self-Attention:** Helps the decoder understand relationships *within* the output generated so far (while preventing it from \"peeking\" at future words).\n",
      "                3.  **Encoder-Decoder Attention:** Allows the decoder to focus on relevant parts of the *input sentence* while generating each output word.\n",
      "        *   **Positional Encoding:** Explain its necessity: \"Since the Transformer processes all words at once (unlike RNNs that process them sequentially), it needs a way to understand the order of words. Positional encodings add special numerical 'hints' to each word's representation, telling the model where it sits in the sequence.\" *Omit the sinusoidal formulas; just mention they are fixed patterns.*\n",
      "\n",
      "    *   **Section 4: Why Self-Attention:**\n",
      "        *   **Focus on Benefits:** Directly state the advantages:\n",
      "            *   **Parallel Processing:** \"Unlike older models that processed words one by one, the Transformer's self-attention can process all words in a sentence simultaneously, making training significantly faster.\"\n",
      "            *   **Direct Connections for Long-Range Dependencies:** \"It can directly link any two words in a sequence, no matter how far apart, which helps it understand complex sentences better than models that struggle to remember information over long distances.\"\n",
      "            *   **Computational Efficiency:** \"For typical sentence lengths, this simultaneous processing also makes it more computationally efficient.\"\n",
      "        *   **Avoid Big O Notation:** Translate \"complexity\" into \"how much computational effort is needed as the sentence gets longer.\"\n",
      "\n",
      "    *   **Section 5: Training:**\n",
      "        *   **Optimizer:** Simply state that \"the Adam optimizer, a standard technique, was used to adjust the model's internal settings during training.\"\n",
      "        *   **Learning Rate Schedule:** Describe as \"a strategy to dynamically adjust how quickly the model learns, starting faster and gradually slowing down to fine-tune its understanding.\" *Omit the formula.*\n",
      "        *   **Regularization:** Explain \"dropout\" and \"label smoothing\" as \"techniques used to prevent the model from simply memorizing the training data, ensuring it can generalize well to new, unseen examples.\"\n",
      "\n",
      "    *   **Tables (1, 2, 3, 4):**\n",
      "        *   **Synthesize Key Findings:** Instead of reproducing tables, summarize their most impactful conclusions.\n",
      "        *   **Translation Results (Table 2):** \"The Transformer achieved groundbreaking results in machine translation, setting new state-of-the-art scores for English-to-German and English-to-French translation. Crucially, it did this with significantly less training time and computational cost compared to previous top-performing models.\"\n",
      "        *   **Model Variations (Table 3):** \"Experiments showed that factors like the number of 'attention heads' and the overall model size significantly impact performance, with larger models generally yielding better results. Techniques like 'dropout' were also crucial for preventing overfitting.\"\n",
      "        *   **Parsing Results (Table 4):** \"Beyond translation, the Transformer also proved highly effective for English constituency parsing, demonstrating its versatility and ability to generalize to other complex language understanding tasks, even outperforming previous models in limited data scenarios.\"\n",
      "        *   **Simplify Metrics:** Explain BLEU score as \"a common metric for evaluating translation quality.\"\n",
      "\n",
      "By following these guidelines, the summary will be accessible and informative for a broad audience without sacrificing the core scientific contributions of the paper.\n"
     ]
    }
   ],
   "source": [
    "print(output[\"summary_plan\"])"
   ]
  }
 ],
 "metadata": {
  "kernelspec": {
   "display_name": ".venv",
   "language": "python",
   "name": "python3"
  },
  "language_info": {
   "codemirror_mode": {
    "name": "ipython",
    "version": 3
   },
   "file_extension": ".py",
   "mimetype": "text/x-python",
   "name": "python",
   "nbconvert_exporter": "python",
   "pygments_lexer": "ipython3",
   "version": "3.13.5"
  }
 },
 "nbformat": 4,
 "nbformat_minor": 5
}
